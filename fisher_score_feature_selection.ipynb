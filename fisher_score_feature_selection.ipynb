{
 "cells": [
  {
   "cell_type": "markdown",
   "metadata": {},
   "source": [
    "# Feature selection using ranked fisher score\n",
    "\n",
    "\n",
    "\n",
    "This jupyter notebook presents the feature selection using ranked fisher score. We perform fisher score on two different kind of features, one is before applying PCA and another one is after PCA.\n",
    "\n",
    "## Fisher score implementation"
   ]
  },
  {
   "cell_type": "code",
   "execution_count": 1,
   "metadata": {},
   "outputs": [],
   "source": [
    "import numpy as np\n",
    "'''\n",
    "Researcher: Lei Wang\n",
    "\n",
    "'''\n",
    "def fisher_score(features, labels):\n",
    "    # print('fisher score')\n",
    "    f_scores = np.zeros(len(features.T))\n",
    "    classes = np.unique(labels)\n",
    "\n",
    "    for col in range(len(features.T)):\n",
    "        c_spread = 0.0 #same class spread\n",
    "        t_spread = 0.0 #total spread\n",
    "\n",
    "        mean = np.mean(features[:, col])\n",
    "        for c in classes:\n",
    "            #weigth of current class N_c / N\n",
    "            nc = len(labels[labels == c]) / len(labels)\n",
    "            #Same class mean and standard deviation of each data column\n",
    "            # print((labels == c).reshape(-1).tolist())\n",
    "            c_mean = np.mean(features[(labels == c).reshape(-1).tolist(), col])\n",
    "            c_std = np.std(features[(labels == c).reshape(-1).tolist(), col])\n",
    "            c_spread += nc * ((c_mean - mean) ** 2)\n",
    "            t_spread += nc * ((c_std) ** 2)\n",
    "        f_scores[col] += c_spread / t_spread\n",
    "    # sort the fisher vector value and return the index\n",
    "    # print(f_scores)\n",
    "    f_scores = np.argsort(f_scores)\n",
    "    # reverse the vector\n",
    "    f_scores = f_scores[::-1]\n",
    "    return f_scores"
   ]
  },
  {
   "cell_type": "markdown",
   "metadata": {},
   "source": [
    "## Load extracted features (after PCA)"
   ]
  },
  {
   "cell_type": "code",
   "execution_count": 2,
   "metadata": {},
   "outputs": [],
   "source": [
    "import pandas as pd\n",
    "\n",
    "# load the extracted features\n",
    "trajectory_pca = pd.read_csv('iCetana_FV_PCA_features_DT_trajectory.csv')\n",
    "hog_pca = pd.read_csv('iCetana_FV_PCA_features_DT_hog.csv')\n",
    "hof_pca = pd.read_csv('iCetana_FV_PCA_features_DT_hof.csv')\n",
    "mbhx_pca = pd.read_csv('iCetana_FV_PCA_features_DT_mbhx.csv')\n",
    "mbhy_pca = pd.read_csv('iCetana_FV_PCA_features_DT_mbhy.csv')\n",
    "mbh_pca = pd.read_csv('iCetana_FV_PCA_features_DT_mbh.csv')\n",
    "\n",
    "# turn the pandas data into numpy array\n",
    "trajectory_pca = trajectory_pca.values\n",
    "hog_pca = hog_pca.values\n",
    "hof_pca = hof_pca.values\n",
    "mbhx_pca = mbhx_pca.values\n",
    "mbhy_pca = mbhy_pca.values\n",
    "mbh_pca = mbh_pca.values\n",
    "\n",
    "# load the labels\n",
    "# dynamic environment labels\n",
    "env_labels = pd.read_csv('all_labels.csv')\n",
    "# human/no human motion labels\n",
    "human_labels = pd.read_csv('human_labels.csv')\n",
    "\n",
    "env_labels = env_labels.values\n",
    "human_labels = human_labels.values"
   ]
  },
  {
   "cell_type": "markdown",
   "metadata": {},
   "source": [
    "## Compute fisher score for feature selection"
   ]
  },
  {
   "cell_type": "code",
   "execution_count": 3,
   "metadata": {},
   "outputs": [],
   "source": [
    "import math\n",
    "\n",
    "def keep_f_dim(features, percentage):\n",
    "    dim = features.shape[1]\n",
    "    new_dim = math.ceil(dim*percentage)\n",
    "    \n",
    "    return new_dim"
   ]
  },
  {
   "cell_type": "code",
   "execution_count": 4,
   "metadata": {},
   "outputs": [],
   "source": [
    "def feature_selection_fc(features, labels, percentage):\n",
    "    f_index = fisher_score(features, labels)\n",
    "    new_dim = keep_f_dim(features, percentage)\n",
    "    reduced_index = f_index[0:new_dim]\n",
    "    reduced_features = features[:, reduced_index]\n",
    "    \n",
    "    return reduced_features"
   ]
  },
  {
   "cell_type": "code",
   "execution_count": 5,
   "metadata": {},
   "outputs": [
    {
     "name": "stdout",
     "output_type": "stream",
     "text": [
      "The concatenated feature dimension is:  (270, 478)\n"
     ]
    }
   ],
   "source": [
    "# at this stage, we keep half of the original feature dimension\n",
    "percentage = 0.5\n",
    "labels = env_labels\n",
    "\n",
    "# compute the fisher score for each individual feature vectors\n",
    "traj_pca_fc = feature_selection_fc(trajectory_pca, labels, percentage)\n",
    "hog_pca_fc = feature_selection_fc(hog_pca, labels, percentage)\n",
    "hof_pca_fc = feature_selection_fc(hof_pca, labels, percentage)\n",
    "mbhx_pca_fc = feature_selection_fc(mbhx_pca, labels, percentage)\n",
    "mbhy_pca_fc = feature_selection_fc(mbhy_pca, labels, percentage)\n",
    "mbh_pca_fc = feature_selection_fc(mbh_pca, labels, percentage)\n",
    "\n",
    "concate_features_fc = np.concatenate((traj_pca_fc, hog_pca_fc, hof_pca_fc, mbhx_pca_fc, mbhy_pca_fc), axis=1)\n",
    "print(\"The concatenated feature dimension is: \", concate_features_fc.shape)"
   ]
  },
  {
   "cell_type": "code",
   "execution_count": 6,
   "metadata": {},
   "outputs": [],
   "source": [
    "concate_features_fc = pd.DataFrame(concate_features_fc)\n",
    "concate_features_fc.to_csv(\"concate_pca_fisher_score_features.csv\", index=False)"
   ]
  },
  {
   "cell_type": "markdown",
   "metadata": {},
   "source": [
    "## Uniform Manifold Approximation and Projection"
   ]
  },
  {
   "cell_type": "code",
   "execution_count": 7,
   "metadata": {},
   "outputs": [],
   "source": [
    "fisher_score_features = pd.read_csv('concate_pca_fisher_score_features.csv')"
   ]
  },
  {
   "cell_type": "code",
   "execution_count": 8,
   "metadata": {},
   "outputs": [],
   "source": [
    "def colormap(c):\n",
    "    if c==0:\n",
    "        color='r'\n",
    "    elif c==1:\n",
    "        color='g'\n",
    "    elif c==2:\n",
    "        color='b'\n",
    "    elif c==3:\n",
    "        color='c'\n",
    "    elif c==4:\n",
    "        color='m'\n",
    "    elif c==5:\n",
    "        color='k'\n",
    "    return color\n",
    "\n",
    "def labelmap(c):\n",
    "    if c==0:\n",
    "        label='normal video'\n",
    "    elif c==1:\n",
    "        label='illumination'\n",
    "    elif c==2:\n",
    "        label='noise video'\n",
    "    elif c==3:\n",
    "        label='rain'\n",
    "    elif c==4:\n",
    "        label='camera shake'\n",
    "    elif c==5:\n",
    "        label='tree wave'\n",
    "    return label"
   ]
  },
  {
   "cell_type": "code",
   "execution_count": 9,
   "metadata": {},
   "outputs": [],
   "source": [
    "all_labels = pd.read_csv('all_labels.csv')\n",
    "human_labels = pd.read_csv('human_labels.csv')"
   ]
  },
  {
   "cell_type": "code",
   "execution_count": 10,
   "metadata": {},
   "outputs": [
    {
     "name": "stderr",
     "output_type": "stream",
     "text": [
      "/anaconda3/envs/myenv3.6/lib/python3.6/site-packages/sklearn/metrics/pairwise.py:257: RuntimeWarning: invalid value encountered in sqrt\n",
      "  return distances if squared else np.sqrt(distances, out=distances)\n"
     ]
    },
    {
     "data": {
      "image/png": "[encoded data removed]",
      "text/plain": [
       "<Figure size 1080x576 with 1 Axes>"
      ]
     },
     "metadata": {},
     "output_type": "display_data"
    }
   ],
   "source": [
    "%matplotlib inline\n",
    "import umap\n",
    "from matplotlib import pyplot as plt\n",
    "import numpy as np\n",
    "\n",
    "plt.rcParams[\"figure.figsize\"] = (15,8)\n",
    "standard_embedding = umap.UMAP(n_neighbors=15, min_dist=0.0, \n",
    "                               n_components=2,random_state=42,\n",
    "#                               metric='correlation'\n",
    "                              ).fit_transform(fisher_score_features.values, y = all_labels.values)\n",
    "x_tsne=standard_embedding[:, 0]\n",
    "y_tsne=standard_embedding[:, 1]\n",
    "\n",
    "labels= all_labels.values\n",
    "#print(labels)\n",
    "\n",
    "x=np.c_[x_tsne]\n",
    "y=np.c_[y_tsne]\n",
    "\n",
    "plt.xticks([])\n",
    "plt.yticks([])\n",
    "plt.title('UMAP dimensions for feature fusion', fontsize=20)\n",
    "\n",
    "seen=set()\n",
    "for i, j, c in zip(x, y, labels):\n",
    "    c=int(c)\n",
    "    plt.scatter(i, j, c=colormap(c), marker=\"o\", cmap='jet', label=labelmap(c) if c not in seen else None)\n",
    "    seen.add(c)\n",
    "    # plt.annotate(h, (i,j))\n",
    "plt.legend()    \n",
    "plt.show()\n",
    "\n"
   ]
  },
  {
   "cell_type": "markdown",
   "metadata": {},
   "source": [
    "## The END"
   ]
  }
 ],
 "metadata": {
  "kernelspec": {
   "display_name": "Python 3 (ipykernel)",
   "language": "python",
   "name": "python3"
  },
  "language_info": {
   "codemirror_mode": {
    "name": "ipython",
    "version": 3
   },
   "file_extension": ".py",
   "mimetype": "text/x-python",
   "name": "python",
   "nbconvert_exporter": "python",
   "pygments_lexer": "ipython3",
   "version": "3.7.4"
  }
 },
 "nbformat": 4,
 "nbformat_minor": 2
}
